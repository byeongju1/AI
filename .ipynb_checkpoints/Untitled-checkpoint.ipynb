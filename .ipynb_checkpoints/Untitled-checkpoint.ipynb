{
 "cells": [
  {
   "cell_type": "markdown",
   "id": "646a9762-55dc-44be-9486-2ade34142c81",
   "metadata": {},
   "source": [
    "인공지능개론 1주차 과제\n",
    "\n",
    "첨부한 파일을 자신의 컴퓨터 저장받고,\n",
    "\n",
    "저장경로를 확인한 후에 DT, RF, SVM, LR 분류를 각각 수행해보세요."
   ]
  },
  {
   "cell_type": "markdown",
   "id": "71d31a38-d9cd-4189-a4ad-e2ed861f25b3",
   "metadata": {},
   "source": [
    "### 데이터를 읽고 확인"
   ]
  },
  {
   "cell_type": "code",
   "execution_count": 3,
   "id": "03c88068-0d6a-41bc-a741-435d8c450b4a",
   "metadata": {},
   "outputs": [
    {
     "data": {
      "text/html": [
       "<div>\n",
       "<style scoped>\n",
       "    .dataframe tbody tr th:only-of-type {\n",
       "        vertical-align: middle;\n",
       "    }\n",
       "\n",
       "    .dataframe tbody tr th {\n",
       "        vertical-align: top;\n",
       "    }\n",
       "\n",
       "    .dataframe thead th {\n",
       "        text-align: right;\n",
       "    }\n",
       "</style>\n",
       "<table border=\"1\" class=\"dataframe\">\n",
       "  <thead>\n",
       "    <tr style=\"text-align: right;\">\n",
       "      <th></th>\n",
       "      <th>SepalLength</th>\n",
       "      <th>SepalWidth</th>\n",
       "      <th>PetalLength</th>\n",
       "      <th>PetalWidth</th>\n",
       "      <th>Name</th>\n",
       "    </tr>\n",
       "  </thead>\n",
       "  <tbody>\n",
       "    <tr>\n",
       "      <th>0</th>\n",
       "      <td>5.1</td>\n",
       "      <td>3.5</td>\n",
       "      <td>1.4</td>\n",
       "      <td>0.2</td>\n",
       "      <td>Iris-setosa</td>\n",
       "    </tr>\n",
       "    <tr>\n",
       "      <th>1</th>\n",
       "      <td>4.9</td>\n",
       "      <td>3.0</td>\n",
       "      <td>1.4</td>\n",
       "      <td>0.2</td>\n",
       "      <td>Iris-setosa</td>\n",
       "    </tr>\n",
       "    <tr>\n",
       "      <th>2</th>\n",
       "      <td>4.7</td>\n",
       "      <td>3.2</td>\n",
       "      <td>1.3</td>\n",
       "      <td>0.2</td>\n",
       "      <td>Iris-setosa</td>\n",
       "    </tr>\n",
       "    <tr>\n",
       "      <th>3</th>\n",
       "      <td>4.6</td>\n",
       "      <td>3.1</td>\n",
       "      <td>1.5</td>\n",
       "      <td>0.2</td>\n",
       "      <td>Iris-setosa</td>\n",
       "    </tr>\n",
       "    <tr>\n",
       "      <th>4</th>\n",
       "      <td>5.0</td>\n",
       "      <td>3.6</td>\n",
       "      <td>1.4</td>\n",
       "      <td>0.2</td>\n",
       "      <td>Iris-setosa</td>\n",
       "    </tr>\n",
       "  </tbody>\n",
       "</table>\n",
       "</div>"
      ],
      "text/plain": [
       "   SepalLength  SepalWidth  PetalLength  PetalWidth         Name\n",
       "0          5.1         3.5          1.4         0.2  Iris-setosa\n",
       "1          4.9         3.0          1.4         0.2  Iris-setosa\n",
       "2          4.7         3.2          1.3         0.2  Iris-setosa\n",
       "3          4.6         3.1          1.5         0.2  Iris-setosa\n",
       "4          5.0         3.6          1.4         0.2  Iris-setosa"
      ]
     },
     "execution_count": 3,
     "metadata": {},
     "output_type": "execute_result"
    }
   ],
   "source": [
    "import pandas as pd\n",
    "\n",
    "# 붓꽃 데이터 CSV 파일 읽기\n",
    "file_path = \"C:/Users/dpfkd/Downloads/iris.csv\"  # 내 iris.csv 저장 경로\n",
    "df = pd.read_csv(file_path)\n",
    "\n",
    "# 데이터프레임 확인, 상위 5개만 출력\n",
    "df.head()\n"
   ]
  },
  {
   "cell_type": "code",
   "execution_count": 3,
   "id": "9bbae7c7-6a5a-47a2-9cab-ad50d7513ea4",
   "metadata": {},
   "outputs": [
    {
     "data": {
      "text/plain": [
       "Index(['SepalLength', 'SepalWidth', 'PetalLength', 'PetalWidth', 'Name'], dtype='object')"
      ]
     },
     "execution_count": 3,
     "metadata": {},
     "output_type": "execute_result"
    }
   ],
   "source": [
    "df.columns #열 이름을 리스트 형태로 반환하는 속성"
   ]
  },
  {
   "cell_type": "code",
   "execution_count": 9,
   "id": "41194efa-2fd5-4a51-8ad7-a13a247503e4",
   "metadata": {},
   "outputs": [
    {
     "name": "stdout",
     "output_type": "stream",
     "text": [
      "===== Features (X) =====\n",
      "   SepalLength  SepalWidth  PetalLength  PetalWidth\n",
      "0          5.1         3.5          1.4         0.2\n",
      "1          4.9         3.0          1.4         0.2\n",
      "2          4.7         3.2          1.3         0.2\n",
      "3          4.6         3.1          1.5         0.2\n",
      "4          5.0         3.6          1.4         0.2\n",
      "\n",
      "===== Target Labels (y) =====\n",
      "===== 클래스별 개수 =====\n",
      "Name\n",
      "Iris-setosa        50\n",
      "Iris-versicolor    50\n",
      "Iris-virginica     50\n",
      "Name: count, dtype: int64\n"
     ]
    }
   ],
   "source": [
    "# 특성과 레이블 분리\n",
    "X = df.drop(columns=[\"Name\"])  # 입력 데이터\n",
    "y = df[\"Name\"]  # 타겟 레이블\n",
    "\n",
    "# X 출력\n",
    "print(\"===== Features (X) =====\")\n",
    "print(X.head())  # 처음 5개 행 출력\n",
    "print()\n",
    "\n",
    "# y 출력\n",
    "print(\"===== Target Labels (y) =====\")\n",
    "\n",
    "class_counts = y.value_counts()\n",
    "print(\"===== 클래스별 개수 =====\")\n",
    "print(class_counts)"
   ]
  },
  {
   "cell_type": "markdown",
   "id": "0e0ddd85-02b2-4dfe-89c8-ed528654d239",
   "metadata": {},
   "source": [
    "### Decision Tree 의사결정트리"
   ]
  },
  {
   "cell_type": "code",
   "execution_count": 14,
   "id": "279afc6d-58af-4e39-90e4-55cf1d695ac3",
   "metadata": {},
   "outputs": [
    {
     "name": "stdout",
     "output_type": "stream",
     "text": [
      "모델 정확도: 1.00\n"
     ]
    }
   ],
   "source": [
    "from sklearn.model_selection import train_test_split # 데이터를 학습/테스트로 나누는 함수\n",
    "from sklearn.tree import DecisionTreeClassifier ## 의사결정트리 분류모델\n",
    "from sklearn.metrics import accuracy_score # 정확도 평가 함수\n",
    "#import matplotlib.pyplot as plt # 시각화를 위한 라이브러리 \n",
    "#from sklearn import tree # 의사결정트리 시각화를 위한 모듈\n",
    "\n",
    "# 1️⃣ 특성 데이터(꽃받침, 꽃잎의 길이 너비)만\n",
    "X = df.drop(columns=[\"Name\"])  # 입력 데이터 라이브러리 import 이후 선언해야 함\n",
    "\n",
    "# 타겟(정답 데이터) 레이블, Name 컬럼만\n",
    "y = df[\"Name\"]  # 타겟 레이블\n",
    "\n",
    "# 2️⃣ 학습/테스트 데이터 분할 (80% 학습, 20% 테스트)\n",
    "# random_state=42: 랜덤성을 고정하여 동일한 결과를 얻도록 함\n",
    "X_train, X_test, y_train, y_test = train_test_split(X, y, test_size=0.2, random_state=42)\n",
    "\n",
    "# 3️⃣ 의사결정트리 모델 생성 및 학습\n",
    "dt_model = DecisionTreeClassifier(random_state=42) # 모델 생성\n",
    "dt_model.fit(X_train, y_train) # 학습데이터로 모델 학습\n",
    "\n",
    "# 4️⃣ 예측 및 정확도 평가\n",
    "y_pred = dt_model.predict(X_test) # X 데이터 예측\n",
    "accuracy = accuracy_score(y_test, y_pred) # 실제 값과 예측값 비교해 정확도 계산\n",
    "\n",
    "# 5️⃣ 결과 출력\n",
    "print(f\"모델 정확도: {accuracy:.2f}\")\n",
    "\n",
    "# 트리 구조 시각화\n",
    "#plt.figure(figsize=(12, 8))\n",
    "#tree.plot_tree(dt_model, feature_names=X.columns, class_names=dt_model.classes_, filled=True)\n",
    "#plt.title(\"Decision Tree Visualization\")\n",
    "#plt.show()"
   ]
  },
  {
   "cell_type": "markdown",
   "id": "4ffbaa2e-dbe7-4e24-9a27-05e2d001393e",
   "metadata": {},
   "source": [
    "DecisionTreeClassifier(random_state=42)\n",
    "\n",
    "기본적으로 gini 불순도를 사용하여 최적의 분기 기준을 찾음.\n",
    "random_state=42: 랜덤성을 고정하여 재현 가능한 결과 보장."
   ]
  },
  {
   "cell_type": "markdown",
   "id": "b509c4c7-fe21-4869-9650-fad476a80b98",
   "metadata": {},
   "source": [
    "### Random Forest 랜덤 포레스트"
   ]
  },
  {
   "cell_type": "code",
   "execution_count": 12,
   "id": "31311dcf-7d76-4890-b6ba-45a91e5b713f",
   "metadata": {},
   "outputs": [
    {
     "name": "stdout",
     "output_type": "stream",
     "text": [
      "랜덤 포레스트 모델 정확도: 1.00\n"
     ]
    }
   ],
   "source": [
    "from sklearn.model_selection import train_test_split # 데이터를 학습/테스트로 나누는 함수\n",
    "from sklearn.ensemble import RandomForestClassifier  # 랜덤 포레스트 분류 모델\n",
    "from sklearn.metrics import accuracy_score           # 정확도 평가 함수\n",
    "\n",
    "# 1️⃣ 특성과 레이블 분리\n",
    "X = df.drop(columns=[\"Name\"])  # 특성 데이터(꽃받침, 꽃잎의 길이 너비)만\n",
    "y = df[\"Name\"]  # 타겟(정답 데이터) 레이블, Name 컬럼만 \n",
    "\n",
    "# 2️⃣ 학습/테스트 데이터 분할 (80% 학습, 20% 테스트)\n",
    "X_train, X_test, y_train, y_test = train_test_split(X, y, test_size=0.2, random_state=42)\n",
    "\n",
    "# 3️⃣ 랜덤 포레스트 모델 생성 및 학습\n",
    "rf_model = RandomForestClassifier(n_estimators=100, random_state=42)  # 100개의 결정 트리를 사용하여 앙상블 모델을 생성, 랜덤성을 고정하여 동일한 결과를 얻도록 함.\n",
    "rf_model.fit(X_train, y_train) # 학습데이터로 모델 학습\n",
    "\n",
    "# 4️⃣ 예측 및 정확도 평가\n",
    "y_pred = rf_model.predict(X_test) # X 데이터 예측\n",
    "accuracy = accuracy_score(y_test, y_pred) # 실제 값과 예측값 비교해 정확도 계산\n",
    "\n",
    "# 5️⃣ 결과 출력\n",
    "print(f\"랜덤 포레스트 모델 정확도: {accuracy:.2f}\")\n"
   ]
  },
  {
   "cell_type": "code",
   "execution_count": 15,
   "id": "e5c64106-ba0e-4244-aba6-36e87139b61c",
   "metadata": {},
   "outputs": [
    {
     "name": "stdout",
     "output_type": "stream",
     "text": [
      "SVM 모델 정확도: 1.00\n"
     ]
    }
   ],
   "source": [
    "from sklearn.model_selection import train_test_split   # 데이터를 학습/테스트로 나누는 함수\n",
    "from sklearn.svm import SVC                            # SVM 분류 모델\n",
    "from sklearn.metrics import accuracy_score             # 정확도 평가 함수\n",
    "\n",
    "# 1️⃣ 특성과 레이블 분리\n",
    "X = df.drop(columns=[\"Name\"])  # 입력 데이터 (Feature)\n",
    "y = df[\"Name\"]  # 타겟 데이터 (Label)\n",
    "\n",
    "# 2️⃣ 학습 데이터와 테스트 데이터 분할 (80% 학습, 20% 테스트)\n",
    "X_train, X_test, y_train, y_test = train_test_split(X, y, test_size=0.2, random_state=42)\n",
    "\n",
    "# 3️⃣ SVM 모델 생성 및 학습\n",
    "svm_model = SVC(kernel=\"linear\", C=1.0, random_state=42)  # SVM 모델 생성 (선형 커널)\n",
    "svm_model.fit(X_train, y_train)  # 모델 학습\n",
    "\n",
    "# 4️⃣ 예측 및 정확도 평가\n",
    "y_pred = svm_model.predict(X_test)  # 테스트 데이터 예측\n",
    "\n",
    "# 5️⃣ 결과 측정\n",
    "accuracy = accuracy_score(y_test, y_pred)\n",
    "print(f\"SVM 모델 정확도: {accuracy:.2f}\")\n"
   ]
  },
  {
   "cell_type": "markdown",
   "id": "4fdae236-fae8-4df2-8c77-a4ac8cd2d85f",
   "metadata": {},
   "source": [
    "kernel=\"linear\": 선형(SVM) 커널 사용.\n",
    "\n",
    "\"linear\" : 선형 분류\n",
    "\"poly\" : 다항식 커널\n",
    "\"rbf\" : 가우시안 RBF 커널 (비선형 분류에 적합)\n",
    "\"sigmoid\" : 시그모이드 커널\n",
    "\n",
    "C=1.0: 규제 강도 (값이 클수록 과적합 가능성이 증가).\n",
    "\n",
    "SVM(Support Vector Machine)은 고차원 데이터에서 강력한 성능을 보이며, 과적합 방지를 위해 적절한 커널을 선택하는 것이 중요."
   ]
  },
  {
   "cell_type": "code",
   "execution_count": 19,
   "id": "d08eab85-591a-47e4-b6c8-c17a86edfa43",
   "metadata": {
    "scrolled": true
   },
   "outputs": [
    {
     "name": "stdout",
     "output_type": "stream",
     "text": [
      "로지스틱 회귀 모델 정확도: 1.00\n"
     ]
    }
   ],
   "source": [
    "from sklearn.model_selection import train_test_split   # 데이터 분할\n",
    "from sklearn.linear_model import LogisticRegression    # 로지스틱 회귀 모델\n",
    "from sklearn.metrics import accuracy_score             # 정확도 평가 함수\n",
    "\n",
    "# 1️⃣ 특성과 레이블 분리\n",
    "X = df.drop(columns=[\"Name\"])  # 입력 데이터 (Feature)\n",
    "y = df[\"Name\"]  # 타겟 데이터 (Label)\n",
    "\n",
    "# 2️⃣ 학습 데이터와 테스트 데이터 분할 (80% 학습, 20% 테스트)\n",
    "X_train, X_test, y_train, y_test = train_test_split(X, y, test_size=0.2, random_state=42)\n",
    "\n",
    "# 3️⃣ 로지스틱 회귀 모델 생성 및 학습\n",
    "lr_model = LogisticRegression(C=1.0, max_iter=200, random_state=42)  # 학습 최대 반복 횟수를 200으로 지정\n",
    "lr_model.fit(X_train, y_train)  # 모델 학습\n",
    "\n",
    "# 4️⃣ 예측 수행\n",
    "y_pred = lr_model.predict(X_test)  # 테스트 데이터 예측\n",
    "\n",
    "# 5️⃣ 모델 평가 (정확도 측정)\n",
    "accuracy = accuracy_score(y_test, y_pred)\n",
    "print(f\"로지스틱 회귀 모델 정확도: {accuracy:.2f}\")\n"
   ]
  },
  {
   "cell_type": "markdown",
   "id": "f974a7b4-dd73-441b-8075-cbbe71b208dd",
   "metadata": {},
   "source": [
    "로지스틱 회귀에서 C 값은 정규화 강도를 조절한다.\n",
    "\n",
    "C값\t설명\n",
    "C=1.0\t기본값 (적절한 정규화)\n",
    "C=0.1\t강한 정규화 (모델 단순화, 과적합 방지)\n",
    "C=10.0\t약한 정규화 (모델이 더 복잡해질 수 있음)"
   ]
  }
 ],
 "metadata": {
  "kernelspec": {
   "display_name": "Python 3 (ipykernel)",
   "language": "python",
   "name": "python3"
  },
  "language_info": {
   "codemirror_mode": {
    "name": "ipython",
    "version": 3
   },
   "file_extension": ".py",
   "mimetype": "text/x-python",
   "name": "python",
   "nbconvert_exporter": "python",
   "pygments_lexer": "ipython3",
   "version": "3.10.16"
  }
 },
 "nbformat": 4,
 "nbformat_minor": 5
}
