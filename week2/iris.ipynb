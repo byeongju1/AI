{
 "cells": [
  {
   "cell_type": "code",
   "execution_count": 1,
   "id": "cb6ff35e-71c7-4b6e-bddd-808ce4f95322",
   "metadata": {},
   "outputs": [
    {
     "data": {
      "text/html": [
       "<div>\n",
       "<style scoped>\n",
       "    .dataframe tbody tr th:only-of-type {\n",
       "        vertical-align: middle;\n",
       "    }\n",
       "\n",
       "    .dataframe tbody tr th {\n",
       "        vertical-align: top;\n",
       "    }\n",
       "\n",
       "    .dataframe thead th {\n",
       "        text-align: right;\n",
       "    }\n",
       "</style>\n",
       "<table border=\"1\" class=\"dataframe\">\n",
       "  <thead>\n",
       "    <tr style=\"text-align: right;\">\n",
       "      <th></th>\n",
       "      <th>SepalLength</th>\n",
       "      <th>SepalWidth</th>\n",
       "      <th>PetalLength</th>\n",
       "      <th>PetalWidth</th>\n",
       "      <th>Name</th>\n",
       "    </tr>\n",
       "  </thead>\n",
       "  <tbody>\n",
       "    <tr>\n",
       "      <th>0</th>\n",
       "      <td>5.1</td>\n",
       "      <td>3.5</td>\n",
       "      <td>1.4</td>\n",
       "      <td>0.2</td>\n",
       "      <td>Iris-setosa</td>\n",
       "    </tr>\n",
       "    <tr>\n",
       "      <th>1</th>\n",
       "      <td>4.9</td>\n",
       "      <td>3.0</td>\n",
       "      <td>1.4</td>\n",
       "      <td>0.2</td>\n",
       "      <td>Iris-setosa</td>\n",
       "    </tr>\n",
       "    <tr>\n",
       "      <th>2</th>\n",
       "      <td>4.7</td>\n",
       "      <td>3.2</td>\n",
       "      <td>1.3</td>\n",
       "      <td>0.2</td>\n",
       "      <td>Iris-setosa</td>\n",
       "    </tr>\n",
       "    <tr>\n",
       "      <th>3</th>\n",
       "      <td>4.6</td>\n",
       "      <td>3.1</td>\n",
       "      <td>1.5</td>\n",
       "      <td>0.2</td>\n",
       "      <td>Iris-setosa</td>\n",
       "    </tr>\n",
       "    <tr>\n",
       "      <th>4</th>\n",
       "      <td>5.0</td>\n",
       "      <td>3.6</td>\n",
       "      <td>1.4</td>\n",
       "      <td>0.2</td>\n",
       "      <td>Iris-setosa</td>\n",
       "    </tr>\n",
       "  </tbody>\n",
       "</table>\n",
       "</div>"
      ],
      "text/plain": [
       "   SepalLength  SepalWidth  PetalLength  PetalWidth         Name\n",
       "0          5.1         3.5          1.4         0.2  Iris-setosa\n",
       "1          4.9         3.0          1.4         0.2  Iris-setosa\n",
       "2          4.7         3.2          1.3         0.2  Iris-setosa\n",
       "3          4.6         3.1          1.5         0.2  Iris-setosa\n",
       "4          5.0         3.6          1.4         0.2  Iris-setosa"
      ]
     },
     "execution_count": 1,
     "metadata": {},
     "output_type": "execute_result"
    }
   ],
   "source": [
    "import pandas as pd\n",
    "\n",
    "# 붓꽃 데이터 CSV 파일 읽기\n",
    "file_path = \"C:/Users/dpfkd/Downloads/iris.csv\"  # 내 iris.csv 저장 경로\n",
    "df = pd.read_csv(file_path)\n",
    "\n",
    "# 데이터프레임 확인, 상위 5개만 출력\n",
    "df.head()"
   ]
  },
  {
   "cell_type": "code",
   "execution_count": 3,
   "id": "223149ae-4be7-4845-8d4d-91b3a56dc6dc",
   "metadata": {},
   "outputs": [
    {
     "data": {
      "text/plain": [
       "Index(['SepalLength', 'SepalWidth', 'PetalLength', 'PetalWidth', 'Name'], dtype='object')"
      ]
     },
     "execution_count": 3,
     "metadata": {},
     "output_type": "execute_result"
    }
   ],
   "source": [
    "df.columns #열 이름을 리스트 형태로 반환하는 속성"
   ]
  },
  {
   "cell_type": "code",
   "execution_count": 21,
   "id": "94db1007-762f-4be8-9a84-220258c489c4",
   "metadata": {},
   "outputs": [],
   "source": [
    "X = df.drop(columns=[\"Name\"])  # 입력 데이터\n",
    "y = df[\"Name\"]  # 타겟 레이블"
   ]
  },
  {
   "cell_type": "code",
   "execution_count": 29,
   "id": "d99df6cb-3c88-488f-9de9-77e4af84b503",
   "metadata": {},
   "outputs": [
    {
     "name": "stdout",
     "output_type": "stream",
     "text": [
      "     SepalLength  SepalWidth  PetalLength  PetalWidth\n",
      "0            5.1         3.5          1.4         0.2\n",
      "1            4.9         3.0          1.4         0.2\n",
      "2            4.7         3.2          1.3         0.2\n",
      "3            4.6         3.1          1.5         0.2\n",
      "4            5.0         3.6          1.4         0.2\n",
      "..           ...         ...          ...         ...\n",
      "145          6.7         3.0          5.2         2.3\n",
      "146          6.3         2.5          5.0         1.9\n",
      "147          6.5         3.0          5.2         2.0\n",
      "148          6.2         3.4          5.4         2.3\n",
      "149          5.9         3.0          5.1         1.8\n",
      "\n",
      "[150 rows x 4 columns]\n"
     ]
    }
   ],
   "source": [
    "# X 출력\n",
    "print(X)  # 처음 5개 행 출력"
   ]
  },
  {
   "cell_type": "code",
   "execution_count": 25,
   "id": "8a345f48-0174-49ee-887b-3f2a55646181",
   "metadata": {},
   "outputs": [
    {
     "name": "stdout",
     "output_type": "stream",
     "text": [
      "Name\n",
      "Iris-setosa        50\n",
      "Iris-versicolor    50\n",
      "Iris-virginica     50\n",
      "Name: count, dtype: int64\n"
     ]
    }
   ],
   "source": [
    "# y 출력\n",
    "class_counts = y.value_counts()\n",
    "print(class_counts)"
   ]
  },
  {
   "cell_type": "code",
   "execution_count": 109,
   "id": "a05ba044-1783-4526-be8d-529ffcf4467b",
   "metadata": {},
   "outputs": [
    {
     "name": "stdout",
     "output_type": "stream",
     "text": [
      "     SepalLength  SepalWidth  PetalLength  PetalWidth\n",
      "22           4.6         3.6          1.0         0.2\n",
      "15           5.7         4.4          1.5         0.4\n",
      "65           6.7         3.1          4.4         1.4\n",
      "11           4.8         3.4          1.6         0.2\n",
      "42           4.4         3.2          1.3         0.2\n",
      "..           ...         ...          ...         ...\n",
      "71           6.1         2.8          4.0         1.3\n",
      "106          4.9         2.5          4.5         1.7\n",
      "14           5.8         4.0          1.2         0.2\n",
      "92           5.8         2.6          4.0         1.2\n",
      "102          7.1         3.0          5.9         2.1\n",
      "\n",
      "[120 rows x 4 columns]\n",
      "22         Iris-setosa\n",
      "15         Iris-setosa\n",
      "65     Iris-versicolor\n",
      "11         Iris-setosa\n",
      "42         Iris-setosa\n",
      "            ...       \n",
      "71     Iris-versicolor\n",
      "106     Iris-virginica\n",
      "14         Iris-setosa\n",
      "92     Iris-versicolor\n",
      "102     Iris-virginica\n",
      "Name: Name, Length: 120, dtype: object\n",
      "\n",
      "     SepalLength  SepalWidth  PetalLength  PetalWidth\n",
      "73           6.1         2.8          4.7         1.2\n",
      "18           5.7         3.8          1.7         0.3\n",
      "118          7.7         2.6          6.9         2.3\n",
      "78           6.0         2.9          4.5         1.5\n",
      "76           6.8         2.8          4.8         1.4\n",
      "31           5.4         3.4          1.5         0.4\n",
      "64           5.6         2.9          3.6         1.3\n",
      "141          6.9         3.1          5.1         2.3\n",
      "68           6.2         2.2          4.5         1.5\n",
      "82           5.8         2.7          3.9         1.2\n",
      "110          6.5         3.2          5.1         2.0\n",
      "12           4.8         3.0          1.4         0.1\n",
      "36           5.5         3.5          1.3         0.2\n",
      "9            4.9         3.1          1.5         0.1\n",
      "19           5.1         3.8          1.5         0.3\n",
      "56           6.3         3.3          4.7         1.6\n",
      "104          6.5         3.0          5.8         2.2\n",
      "69           5.6         2.5          3.9         1.1\n",
      "55           5.7         2.8          4.5         1.3\n",
      "132          6.4         2.8          5.6         2.2\n",
      "29           4.7         3.2          1.6         0.2\n",
      "127          6.1         3.0          4.9         1.8\n",
      "26           5.0         3.4          1.6         0.4\n",
      "128          6.4         2.8          5.6         2.1\n",
      "131          7.9         3.8          6.4         2.0\n",
      "145          6.7         3.0          5.2         2.3\n",
      "108          6.7         2.5          5.8         1.8\n",
      "143          6.8         3.2          5.9         2.3\n",
      "45           4.8         3.0          1.4         0.3\n",
      "30           4.8         3.1          1.6         0.2\n",
      "73     Iris-versicolor\n",
      "18         Iris-setosa\n",
      "118     Iris-virginica\n",
      "78     Iris-versicolor\n",
      "76     Iris-versicolor\n",
      "31         Iris-setosa\n",
      "64     Iris-versicolor\n",
      "141     Iris-virginica\n",
      "68     Iris-versicolor\n",
      "82     Iris-versicolor\n",
      "110     Iris-virginica\n",
      "12         Iris-setosa\n",
      "36         Iris-setosa\n",
      "9          Iris-setosa\n",
      "19         Iris-setosa\n",
      "56     Iris-versicolor\n",
      "104     Iris-virginica\n",
      "69     Iris-versicolor\n",
      "55     Iris-versicolor\n",
      "132     Iris-virginica\n",
      "29         Iris-setosa\n",
      "127     Iris-virginica\n",
      "26         Iris-setosa\n",
      "128     Iris-virginica\n",
      "131     Iris-virginica\n",
      "145     Iris-virginica\n",
      "108     Iris-virginica\n",
      "143     Iris-virginica\n",
      "45         Iris-setosa\n",
      "30         Iris-setosa\n",
      "Name: Name, dtype: object\n",
      "(30,)\n"
     ]
    }
   ],
   "source": [
    "from sklearn.model_selection import train_test_split\n",
    "from sklearn.preprocessing import StandardScaler\n",
    "\n",
    "# 데이터 분할 (train: 80%, test: 20%)\n",
    "X_train, X_test, y_train, y_test = train_test_split(X, y, test_size=0.2, random_state=42)\n",
    "\n",
    "\n",
    "print(X_train)\n",
    "print(y_train)\n",
    "print()\n",
    "print(X_test)\n",
    "print(y_test)\n",
    "print(y_test.shape) #150개의 20퍼센트 = 30개"
   ]
  },
  {
   "cell_type": "code",
   "execution_count": 111,
   "id": "de592f62-b893-461d-985a-e7c783e35566",
   "metadata": {},
   "outputs": [],
   "source": [
    "from sklearn.linear_model import LogisticRegression\n",
    "from sklearn.svm import SVC\n",
    "from sklearn.neural_network import MLPClassifier\n",
    "from sklearn.tree import DecisionTreeClassifier\n",
    "from sklearn.ensemble import RandomForestClassifier\n",
    "from sklearn.metrics import accuracy_score\n",
    "from sklearn.metrics import confusion_matrix"
   ]
  },
  {
   "cell_type": "code",
   "execution_count": 113,
   "id": "ddb52e58-39d6-450d-b239-48fd1de8fde0",
   "metadata": {},
   "outputs": [
    {
     "name": "stdout",
     "output_type": "stream",
     "text": [
      "DT모델 정확도: 1.00\n",
      "[[10  0  0]\n",
      " [ 0  9  0]\n",
      " [ 0  0 11]]\n"
     ]
    }
   ],
   "source": [
    "dt_model = DecisionTreeClassifier(random_state=0) # 모델 생성\n",
    "dt_model.fit(X_train, y_train) # 학습데이터로 모델 학습\n",
    "\n",
    "dt_pred = dt_model.predict(X_test) # X 데이터 예측\n",
    "accuracy = accuracy_score(y_test, dt_pred) # 실제 값과 예측값 비교해 정확도 계산\n",
    "\n",
    "print(f\"DT모델 정확도: {accuracy:.2f}\")\n",
    "print (confusion_matrix(y_test, dt_pred))"
   ]
  },
  {
   "cell_type": "code",
   "execution_count": 115,
   "id": "40b6ca58-b726-4d91-8b52-b587229149ae",
   "metadata": {},
   "outputs": [
    {
     "name": "stdout",
     "output_type": "stream",
     "text": [
      "SVM 모델 정확도: 1.00\n",
      "[[10  0  0]\n",
      " [ 0  9  0]\n",
      " [ 0  0 11]]\n"
     ]
    }
   ],
   "source": [
    "svm_model = SVC(kernel=\"linear\", C=1.0, random_state=0)  # SVM 모델 생성 (선형 커널)\n",
    "svm_model.fit(X_train, y_train)  # 모델 학습\n",
    "\n",
    "svm_pred = svm_model.predict(X_test)  # 테스트 데이터 예측\n",
    "\n",
    "accuracy = accuracy_score(y_test, svm_pred)\n",
    "print(f\"SVM 모델 정확도: {accuracy:.2f}\")\n",
    "print (confusion_matrix(y_test, svm_pred))"
   ]
  },
  {
   "cell_type": "code",
   "execution_count": 117,
   "id": "4717d2eb-9158-4343-b370-f7d728cdc35c",
   "metadata": {},
   "outputs": [
    {
     "name": "stdout",
     "output_type": "stream",
     "text": [
      "RF 모델 정확도: 1.00\n",
      "[[10  0  0]\n",
      " [ 0  9  0]\n",
      " [ 0  0 11]]\n"
     ]
    }
   ],
   "source": [
    "rf_model = RandomForestClassifier(n_estimators=100, random_state=0)  # 100개의 결정 트리를 사용하여 앙상블 모델을 생성, 랜덤성을 고정하여 동일한 결과를 얻도록 함.\n",
    "rf_model.fit(X_train, y_train) # 학습데이터로 모델 학습\n",
    "\n",
    "rf_pred = rf_model.predict(X_test) # X 데이터 예측\n",
    "accuracy = accuracy_score(y_test, rf_pred) # 실제 값과 예측값 비교해 정확도 계산\n",
    "\n",
    "print(f\"RF 모델 정확도: {accuracy:.2f}\")\n",
    "print (confusion_matrix(y_test, rf_pred))"
   ]
  },
  {
   "cell_type": "code",
   "execution_count": 130,
   "id": "83debdf1-c9f9-431b-9c30-e019c9447ec6",
   "metadata": {},
   "outputs": [
    {
     "name": "stdout",
     "output_type": "stream",
     "text": [
      "LR 모델 정확도: 1.00\n",
      "[[10  0  0]\n",
      " [ 0  9  0]\n",
      " [ 0  0 11]]\n"
     ]
    }
   ],
   "source": [
    "lr_model = LogisticRegression(C=1.0, max_iter=200, random_state=42)  # 학습 최대 반복 횟수를 200으로 지정\n",
    "lr_model.fit(X_train, y_train)  # 모델 학습\n",
    "\n",
    "lr_pred = lr_model.predict(X_test)  # 테스트 데이터 예측\n",
    "\n",
    "accuracy = accuracy_score(y_test, lr_pred)\n",
    "print(f\"LR 모델 정확도: {accuracy:.2f}\")\n",
    "print (confusion_matrix(y_test, lr_pred))"
   ]
  },
  {
   "cell_type": "code",
   "execution_count": 128,
   "id": "820b1e27-59cf-403f-9bf5-69d1845d6c2f",
   "metadata": {},
   "outputs": [
    {
     "name": "stdout",
     "output_type": "stream",
     "text": [
      "KNN 모델 정확도: 1.00\n",
      "[[10  0  0]\n",
      " [ 0  9  0]\n",
      " [ 0  0 11]]\n"
     ]
    }
   ],
   "source": [
    "from sklearn.neighbors import KNeighborsClassifier\n",
    "\n",
    "knn_model = KNeighborsClassifier()\n",
    "knn_model.fit(X_train, y_train)\n",
    "\n",
    "knn_pred = knn_model.predict(X_test)\n",
    "\n",
    "accuracy = accuracy_score(y_test, knn_pred)\n",
    "print(f\"KNN 모델 정확도: {accuracy:.2f}\")\n",
    "print(confusion_matrix(y_test, knn_pred))"
   ]
  },
  {
   "cell_type": "code",
   "execution_count": 126,
   "id": "fdaef8a1-7105-42e4-95a6-d23b75a02c68",
   "metadata": {},
   "outputs": [
    {
     "name": "stdout",
     "output_type": "stream",
     "text": [
      "Decision Tree 정확도: 1.0000\n",
      "Random Forest 정확도: 1.0000\n",
      "SVM 정확도: 1.0000\n",
      "Logistic Regression 정확도: 1.0000\n",
      "k-NN 정확도: 1.0000\n"
     ]
    }
   ],
   "source": [
    "from sklearn.neighbors import KNeighborsClassifier\n",
    "\n",
    "# 데이터 분할 (훈련 세트 80%, 테스트 세트 20%)\n",
    "X_train, X_test, y_train, y_test = train_test_split(X, y, test_size=0.2, random_state=42)\n",
    "\n",
    "# 특성 스케일링\n",
    "scaler = StandardScaler()\n",
    "X_train = scaler.fit_transform(X_train)\n",
    "X_test = scaler.transform(X_test)\n",
    "\n",
    "# 모델 초기화\n",
    "models = {\n",
    "    'Decision Tree': DecisionTreeClassifier(random_state=42),\n",
    "    'Random Forest': RandomForestClassifier(random_state=42),\n",
    "    'SVM': SVC(random_state=42),\n",
    "    'Logistic Regression': LogisticRegression(random_state=42),\n",
    "    'k-NN': KNeighborsClassifier()\n",
    "}\n",
    "\n",
    "\n",
    "# 모델 학습 및 평가\n",
    "for name, model in models.items():\n",
    "    model.fit(X_train, y_train)\n",
    "    y_pred = model.predict(X_test)\n",
    "    accuracy = accuracy_score(y_test, y_pred)\n",
    "    print(f'{name} 정확도: {accuracy:.4f}')"
   ]
  },
  {
   "cell_type": "markdown",
   "id": "16d25951-0bdd-4ec9-ba24-37bb6b1b415b",
   "metadata": {},
   "source": [
    "knn_model = KNeighborsClassifier(n_neighbors=5)\n"
   ]
  }
 ],
 "metadata": {
  "kernelspec": {
   "display_name": "Python [conda env:base] *",
   "language": "python",
   "name": "conda-base-py"
  },
  "language_info": {
   "codemirror_mode": {
    "name": "ipython",
    "version": 3
   },
   "file_extension": ".py",
   "mimetype": "text/x-python",
   "name": "python",
   "nbconvert_exporter": "python",
   "pygments_lexer": "ipython3",
   "version": "3.12.7"
  }
 },
 "nbformat": 4,
 "nbformat_minor": 5
}
