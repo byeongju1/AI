{
 "cells": [
  {
   "cell_type": "markdown",
   "id": "c948f77a-5837-4b60-921b-8a0f5eec6e26",
   "metadata": {},
   "source": [
    "# 분류(Classification)와 회귀(Regression)"
   ]
  },
  {
   "cell_type": "markdown",
   "id": "587467a1-f066-4459-84c7-f46336645e6f",
   "metadata": {},
   "source": [
    "공통점 : 예측을 한다."
   ]
  },
  {
   "cell_type": "markdown",
   "id": "17adc3fe-92c6-4d66-ac21-d628bf39aa90",
   "metadata": {},
   "source": [
    "## 분류 "
   ]
  },
  {
   "cell_type": "markdown",
   "id": "68ab61be-f338-48ab-b480-b7c51af99954",
   "metadata": {},
   "source": [
    "접미사 Classifier"
   ]
  },
  {
   "cell_type": "markdown",
   "id": "7b32d0a1-45ef-4d0b-82d9-528f9f72b66d",
   "metadata": {},
   "source": [
    "이산적인 값을 예측"
   ]
  },
  {
   "cell_type": "markdown",
   "id": "1789414d-af66-46bf-b995-cabb7b91897a",
   "metadata": {},
   "source": [
    "**LogisticRegression**\t from sklearn.linear_model import LogisticRegression"
   ]
  },
  {
   "cell_type": "markdown",
   "id": "80774893-51ec-4090-9707-f4da72e61f1e",
   "metadata": {},
   "source": [
    "**RandomForestClassifier**\t from sklearn.ensemble import RandomForestClassifier"
   ]
  },
  {
   "cell_type": "markdown",
   "id": "3f16e568-2cb2-4e3a-98d7-51064c32855f",
   "metadata": {},
   "source": [
    "**SVC (Support Vector Classifier)**\t from sklearn.svm import SVC"
   ]
  },
  {
   "cell_type": "markdown",
   "id": "10c0ff4d-8e0f-4d29-95bb-c24c1f3806ae",
   "metadata": {},
   "source": [
    "**KNeighborsClassifier**\t from sklearn.neighbors import KNeighborsClassifier"
   ]
  },
  {
   "cell_type": "markdown",
   "id": "75b0f5bd-f101-4603-a639-b8a01fef0c6c",
   "metadata": {},
   "source": [
    "## 회귀"
   ]
  },
  {
   "cell_type": "markdown",
   "id": "50da9324-c2bd-4a26-8f8c-07375ec35024",
   "metadata": {},
   "source": [
    "접미사 Regressor"
   ]
  },
  {
   "cell_type": "markdown",
   "id": "638cad07-09e5-4436-b826-1a77a3955061",
   "metadata": {},
   "source": [
    "연속적인 값을 예측"
   ]
  },
  {
   "cell_type": "markdown",
   "id": "1a16fbdd-3a50-4f91-a6e8-29f1622602f8",
   "metadata": {},
   "source": [
    "**LinearRegression**\tfrom sklearn.linear_model import LinearRegression"
   ]
  },
  {
   "cell_type": "markdown",
   "id": "54ba3153-03b1-466f-96d6-46f8ac413f18",
   "metadata": {},
   "source": [
    "**RandomForestRegressor**\tfrom sklearn.ensemble import RandomForestRegressor"
   ]
  },
  {
   "cell_type": "markdown",
   "id": "041f4c33-c10a-4390-b241-668801169a77",
   "metadata": {},
   "source": [
    "**SVR (Support Vector Regressor)**\tfrom sklearn.svm import SVR"
   ]
  },
  {
   "cell_type": "markdown",
   "id": "508143ba-4b9e-4e25-8a09-6a8150d824c7",
   "metadata": {},
   "source": [
    "**KNeighborsRegressor**\tfrom sklearn.neighbors import KNeighborsRegressor"
   ]
  },
  {
   "cell_type": "markdown",
   "id": "db2cc73e-4d48-46e1-934a-a5493c813a58",
   "metadata": {},
   "source": [
    "## 손실함수"
   ]
  },
  {
   "cell_type": "markdown",
   "id": "fe9c0eeb-f46c-4b58-b04a-3230f2b5e4f3",
   "metadata": {},
   "source": [
    "모델이 얼마나 틀렸는지를 수치로 측정하는 함수"
   ]
  },
  {
   "cell_type": "markdown",
   "id": "d7a63ea1-d86e-41b5-b4bb-3f47fe6c5c65",
   "metadata": {},
   "source": [
    "손실 함수 잘못 쓰면 \n",
    "\n",
    "모델이 출력을 잘못 해석함\n",
    "\n",
    "학습 도중 loss가 수렴하지 않음\n",
    "\n",
    "예측 결과가 해석 불가능\n",
    "\n",
    "정확도/성능이 심각하게 떨어짐"
   ]
  },
  {
   "cell_type": "markdown",
   "id": "6f153843-761e-482a-a741-564439417211",
   "metadata": {},
   "source": [
    "### 분류"
   ]
  },
  {
   "cell_type": "markdown",
   "id": "b02b7757-2809-42b2-812e-638f19c7474b",
   "metadata": {},
   "source": [
    "categorical_crossentropy, binary_crossentropy"
   ]
  },
  {
   "cell_type": "markdown",
   "id": "f2dfda8c-fd12-4bde-8d29-35452bab478f",
   "metadata": {},
   "source": [
    "### 회귀"
   ]
  },
  {
   "cell_type": "markdown",
   "id": "9975079d-fcb6-4e71-a0f0-7f210942e28f",
   "metadata": {},
   "source": [
    "mean_squared_error (MSE), mean_absolute_error (MAE)"
   ]
  },
  {
   "cell_type": "code",
   "execution_count": null,
   "id": "9f4183ce-22cf-42f1-9ec2-dd7b7d37c0f5",
   "metadata": {},
   "outputs": [],
   "source": []
  }
 ],
 "metadata": {
  "kernelspec": {
   "display_name": "Python [conda env:base] *",
   "language": "python",
   "name": "conda-base-py"
  },
  "language_info": {
   "codemirror_mode": {
    "name": "ipython",
    "version": 3
   },
   "file_extension": ".py",
   "mimetype": "text/x-python",
   "name": "python",
   "nbconvert_exporter": "python",
   "pygments_lexer": "ipython3",
   "version": "3.12.7"
  }
 },
 "nbformat": 4,
 "nbformat_minor": 5
}
