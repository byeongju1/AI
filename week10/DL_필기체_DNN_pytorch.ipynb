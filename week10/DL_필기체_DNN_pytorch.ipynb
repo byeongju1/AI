{
 "cells": [
  {
   "cell_type": "markdown",
   "id": "c1017e4c-4eaa-4de1-84fb-3e36ad35fac3",
   "metadata": {},
   "source": [
    "## DNN\n",
    "\n",
    "Deep Neural Network\n",
    "\n",
    "입력층 → 여러 개의 은닉층(fully connected) → 출력층으로 구성된 일반적인 인공신경망\n",
    "\n",
    "각 뉴런은 이전 층의 모든 뉴런과 연결됨 (Fully Connected Layer).\n",
    "\n",
    "주로 벡터 데이터(예: 주가, 키-몸무게, 센서값 등) 처리에 사용된다."
   ]
  },
  {
   "cell_type": "code",
   "execution_count": 37,
   "id": "8179fad9-54e3-429b-9395-2b3ca7e0fc4b",
   "metadata": {},
   "outputs": [],
   "source": [
    "import torch\n",
    "import torch.nn as nn\n",
    "import torch.optim as optim\n",
    "from sklearn import datasets, metrics\n",
    "from sklearn.model_selection import train_test_split\n",
    "from sklearn.preprocessing import StandardScaler\n",
    "import matplotlib.pyplot as plt"
   ]
  },
  {
   "cell_type": "code",
   "execution_count": 39,
   "id": "ded20344-3023-437c-bc4a-d38032748e46",
   "metadata": {},
   "outputs": [],
   "source": [
    "# 1. Load dataset\n",
    "digits = datasets.load_digits()\n",
    "n_samples = len(digits.images)\n",
    "data = digits.images.reshape((n_samples, -1))  # (n_samples, 64)"
   ]
  },
  {
   "cell_type": "code",
   "execution_count": 41,
   "id": "cbf9c88c-0be1-49b2-a05d-970f5c006c59",
   "metadata": {},
   "outputs": [
    {
     "data": {
      "text/plain": [
       "<matplotlib.image.AxesImage at 0x2654c578080>"
      ]
     },
     "execution_count": 41,
     "metadata": {},
     "output_type": "execute_result"
    },
    {
     "data": {
      "image/png": "[encoded data removed]",
      "text/plain": [
       "<Figure size 640x480 with 1 Axes>"
      ]
     },
     "metadata": {},
     "output_type": "display_data"
    }
   ],
   "source": [
    "plt.imshow(digits.images[0], cmap=plt.cm.gray_r, interpolation='nearest')"
   ]
  },
  {
   "cell_type": "code",
   "execution_count": 43,
   "id": "5b3d59fc-2b06-40e3-90a4-2e30860dd3ef",
   "metadata": {},
   "outputs": [],
   "source": [
    "# 2. Train test split\n",
    "X_train, X_test, y_train, y_test = train_test_split(data, digits.target, test_size=0.2, random_state=42)"
   ]
  },
  {
   "cell_type": "code",
   "execution_count": 45,
   "id": "0edbe219-0e29-47ac-a1ff-18eb15d3e89d",
   "metadata": {},
   "outputs": [],
   "source": [
    "# 3. Normalize\n",
    "scaler = StandardScaler()\n",
    "X_train = scaler.fit_transform(X_train)\n",
    "X_test = scaler.transform(X_test)"
   ]
  },
  {
   "cell_type": "code",
   "execution_count": 47,
   "id": "e50b9671-5a15-460d-bebd-216c8aeb7d2c",
   "metadata": {},
   "outputs": [],
   "source": [
    "# 4. PyTorch tensors\n",
    "X_train_tensor = torch.tensor(X_train, dtype=torch.float32)\n",
    "X_test_tensor = torch.tensor(X_test, dtype=torch.float32)\n",
    "y_train_tensor = torch.tensor(y_train, dtype=torch.long)\n",
    "y_test_tensor = torch.tensor(y_test, dtype=torch.long)"
   ]
  },
  {
   "cell_type": "code",
   "execution_count": 49,
   "id": "cfab4d37-234e-421f-8258-8f792f9431a0",
   "metadata": {},
   "outputs": [],
   "source": [
    "# 5. DNN model 정의\n",
    "class DNN(nn.Module):\n",
    "    def __init__(self):\n",
    "        super(DNN, self).__init__()\n",
    "        self.layers = nn.Sequential(\n",
    "            nn.Linear(64, 128),\n",
    "            nn.ReLU(),\n",
    "            nn.Linear(128, 64),\n",
    "            nn.ReLU(),\n",
    "            nn.Linear(64, 10)  # 10 classes\n",
    "        )\n",
    "\n",
    "    def forward(self, x):\n",
    "        return self.layers(x)\n",
    "\n",
    "model = DNN()"
   ]
  },
  {
   "cell_type": "code",
   "execution_count": 51,
   "id": "b2013352-bb4e-4bef-ac0e-6e672295529f",
   "metadata": {},
   "outputs": [],
   "source": [
    "# 6. 손실함수 옵티마이저 설정\n",
    "criterion = nn.CrossEntropyLoss()\n",
    "optimizer = optim.Adam(model.parameters(), lr=0.001)"
   ]
  },
  {
   "cell_type": "code",
   "execution_count": 53,
   "id": "12683199-ab54-4ade-b351-7052ec34a825",
   "metadata": {},
   "outputs": [
    {
     "name": "stdout",
     "output_type": "stream",
     "text": [
      "Epoch 1/20, Loss: 2.3123\n",
      "Epoch 2/20, Loss: 2.2846\n",
      "Epoch 3/20, Loss: 2.2575\n",
      "Epoch 4/20, Loss: 2.2305\n",
      "Epoch 5/20, Loss: 2.2033\n",
      "Epoch 6/20, Loss: 2.1755\n",
      "Epoch 7/20, Loss: 2.1470\n",
      "Epoch 8/20, Loss: 2.1173\n",
      "Epoch 9/20, Loss: 2.0864\n",
      "Epoch 10/20, Loss: 2.0540\n",
      "Epoch 11/20, Loss: 2.0200\n",
      "Epoch 12/20, Loss: 1.9844\n",
      "Epoch 13/20, Loss: 1.9472\n",
      "Epoch 14/20, Loss: 1.9082\n",
      "Epoch 15/20, Loss: 1.8676\n",
      "Epoch 16/20, Loss: 1.8252\n",
      "Epoch 17/20, Loss: 1.7809\n",
      "Epoch 18/20, Loss: 1.7350\n",
      "Epoch 19/20, Loss: 1.6875\n",
      "Epoch 20/20, Loss: 1.6385\n"
     ]
    }
   ],
   "source": [
    "# 7. 학습\n",
    "epochs = 20\n",
    "for epoch in range(epochs):\n",
    "    optimizer.zero_grad()\n",
    "    output = model(X_train_tensor)\n",
    "    loss = criterion(output, y_train_tensor)\n",
    "    loss.backward()\n",
    "    optimizer.step()\n",
    "    \n",
    "    print(f\"Epoch {epoch+1}/{epochs}, Loss: {loss.item():.4f}\")"
   ]
  },
  {
   "cell_type": "code",
   "execution_count": 55,
   "id": "5d3ebf43-ec50-4a72-9a8e-525b74d8bf2b",
   "metadata": {},
   "outputs": [
    {
     "name": "stdout",
     "output_type": "stream",
     "text": [
      "Evaluation on Test Set\n",
      "Accuracy: 0.7722\n",
      "F1 Score (macro): 0.7398\n"
     ]
    }
   ],
   "source": [
    "# 8. Evaluation\n",
    "from sklearn.metrics import accuracy_score, f1_score\n",
    "\n",
    "with torch.no_grad():\n",
    "    y_pred_tensor = model(X_test_tensor)\n",
    "    y_pred = torch.argmax(y_pred_tensor, dim=1)\n",
    "\n",
    "acc = accuracy_score(y_test, y_pred.numpy())\n",
    "\n",
    "# F1 Score (macro 평균은 클래스 간 균형 고려)\n",
    "f1 = f1_score(y_test, y_pred.numpy(), average='macro')\n",
    "\n",
    "print(\"Evaluation on Test Set\")\n",
    "print(f\"Accuracy: {acc:.4f}\")\n",
    "print(f\"F1 Score (macro): {f1:.4f}\")"
   ]
  },
  {
   "cell_type": "code",
   "execution_count": 57,
   "id": "84c47a5d-2ca2-4c41-98c7-e98cab58e566",
   "metadata": {},
   "outputs": [
    {
     "name": "stdout",
     "output_type": "stream",
     "text": [
      "Predicted label for test image 10: 1\n"
     ]
    }
   ],
   "source": [
    "# 9. 이미지 예측\n",
    "idx = 10\n",
    "sample = X_test_tensor[idx].unsqueeze(0)  # Add batch dimension\n",
    "with torch.no_grad():\n",
    "    single_pred = torch.argmax(model(sample), dim=1)\n",
    "print(f\"Predicted label for test image {idx}:\", single_pred.item())"
   ]
  },
  {
   "cell_type": "code",
   "execution_count": 59,
   "id": "e81f2615-9ff6-41e3-ad9b-b635ea77685b",
   "metadata": {},
   "outputs": [
    {
     "data": {
      "image/png": "[encoded data removed]",
      "text/plain": [
       "<Figure size 640x480 with 1 Axes>"
      ]
     },
     "metadata": {},
     "output_type": "display_data"
    }
   ],
   "source": [
    "# 10. Show the image\n",
    "plt.imshow(X_test[idx].reshape(8, 8), cmap=plt.cm.gray_r)\n",
    "plt.title(f\"Predicted: {single_pred.item()}\")\n",
    "plt.show()  "
   ]
  },
  {
   "cell_type": "code",
   "execution_count": null,
   "id": "004cfcca-59e7-43a1-aac5-dc0dd461c37b",
   "metadata": {},
   "outputs": [],
   "source": []
  }
 ],
 "metadata": {
  "kernelspec": {
   "display_name": "Python [conda env:base] *",
   "language": "python",
   "name": "conda-base-py"
  },
  "language_info": {
   "codemirror_mode": {
    "name": "ipython",
    "version": 3
   },
   "file_extension": ".py",
   "mimetype": "text/x-python",
   "name": "python",
   "nbconvert_exporter": "python",
   "pygments_lexer": "ipython3",
   "version": "3.12.7"
  }
 },
 "nbformat": 4,
 "nbformat_minor": 5
}
